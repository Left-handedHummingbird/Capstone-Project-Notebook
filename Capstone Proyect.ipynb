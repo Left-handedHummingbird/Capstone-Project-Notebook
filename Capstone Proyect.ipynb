{
 "cells": [
  {
   "cell_type": "markdown",
   "metadata": {},
   "source": [
    "# Capstone project"
   ]
  },
  {
   "cell_type": "code",
   "execution_count": 1,
   "metadata": {},
   "outputs": [],
   "source": [
    "import numpy as np\n",
    "import pandas as pd"
   ]
  },
  {
   "cell_type": "markdown",
   "metadata": {},
   "source": [
    "## What is this about?\n",
    "\n",
    "For this proyect i will choose which place in Toronto is better for a gym for old people to be opened based on the income, density of old people living in the area and competence around the place."
   ]
  },
  {
   "cell_type": "code",
   "execution_count": 2,
   "metadata": {},
   "outputs": [
    {
     "name": "stdout",
     "output_type": "stream",
     "text": [
      "Hello Capstone Project Course!\n"
     ]
    }
   ],
   "source": [
    "print('Hello Capstone Project Course!')"
   ]
  },
  {
   "cell_type": "code",
   "execution_count": 3,
   "metadata": {},
   "outputs": [],
   "source": [
    "import json\n",
    "import requests\n",
    "from pandas.io.json import json_normalize"
   ]
  },
  {
   "cell_type": "markdown",
   "metadata": {},
   "source": [
    "## Getting the center location for Postal codes"
   ]
  },
  {
   "cell_type": "code",
   "execution_count": 4,
   "metadata": {},
   "outputs": [
    {
     "data": {
      "text/html": [
       "<div>\n",
       "<style scoped>\n",
       "    .dataframe tbody tr th:only-of-type {\n",
       "        vertical-align: middle;\n",
       "    }\n",
       "\n",
       "    .dataframe tbody tr th {\n",
       "        vertical-align: top;\n",
       "    }\n",
       "\n",
       "    .dataframe thead th {\n",
       "        text-align: right;\n",
       "    }\n",
       "</style>\n",
       "<table border=\"1\" class=\"dataframe\">\n",
       "  <thead>\n",
       "    <tr style=\"text-align: right;\">\n",
       "      <th></th>\n",
       "      <th>Postal Code</th>\n",
       "      <th>Latitude</th>\n",
       "      <th>Longitude</th>\n",
       "    </tr>\n",
       "  </thead>\n",
       "  <tbody>\n",
       "    <tr>\n",
       "      <th>0</th>\n",
       "      <td>M1B</td>\n",
       "      <td>43.806686</td>\n",
       "      <td>-79.194353</td>\n",
       "    </tr>\n",
       "    <tr>\n",
       "      <th>1</th>\n",
       "      <td>M1C</td>\n",
       "      <td>43.784535</td>\n",
       "      <td>-79.160497</td>\n",
       "    </tr>\n",
       "    <tr>\n",
       "      <th>2</th>\n",
       "      <td>M1E</td>\n",
       "      <td>43.763573</td>\n",
       "      <td>-79.188711</td>\n",
       "    </tr>\n",
       "    <tr>\n",
       "      <th>3</th>\n",
       "      <td>M1G</td>\n",
       "      <td>43.770992</td>\n",
       "      <td>-79.216917</td>\n",
       "    </tr>\n",
       "    <tr>\n",
       "      <th>4</th>\n",
       "      <td>M1H</td>\n",
       "      <td>43.773136</td>\n",
       "      <td>-79.239476</td>\n",
       "    </tr>\n",
       "  </tbody>\n",
       "</table>\n",
       "</div>"
      ],
      "text/plain": [
       "  Postal Code   Latitude  Longitude\n",
       "0         M1B  43.806686 -79.194353\n",
       "1         M1C  43.784535 -79.160497\n",
       "2         M1E  43.763573 -79.188711\n",
       "3         M1G  43.770992 -79.216917\n",
       "4         M1H  43.773136 -79.239476"
      ]
     },
     "execution_count": 4,
     "metadata": {},
     "output_type": "execute_result"
    }
   ],
   "source": [
    "Postalcodedf=pd.read_csv('http://cocl.us/Geospatial_data').sort_values(['Postal Code'])\n",
    "Postalcodedf.head()"
   ]
  },
  {
   "cell_type": "markdown",
   "metadata": {},
   "source": [
    "## Getting data from the 2016 Canada Census"
   ]
  },
  {
   "cell_type": "code",
   "execution_count": 5,
   "metadata": {},
   "outputs": [],
   "source": [
    "def PostalData(PC):\n",
    "    response=requests.get('https://www12.statcan.gc.ca/rest/census-recensement/CPR2016.json?lang=E&dguid=2016A0011'+PC+'&topic=0&notes=0&stat=0')\n",
    "    info = json.loads(response.text[2:])\n",
    "    dff=pd.DataFrame(info['DATA'],columns=info['COLUMNS'])\n",
    "    df=dff.iloc[:,10:]\n",
    "    Data = df.drop(columns=['NOTE','T_SYM','M_SYM','NOTE_ID','M_SYM','F_SYM']).set_index('TEXT_NAME_NOM').transpose()\n",
    "    Data.rename(columns={'TEXT_NAME_NOM':''},inplace=True)\n",
    "    df=Data[['Population, 2016','    Average total income in 2015 among recipients ($)','Average age of the population','    60 to 64 years', '  65 years and over']]\n",
    "    df=df.iloc[:1,:5].transpose().rename(columns={'T_DATA_DONNEE':PC})\n",
    "    return df"
   ]
  },
  {
   "cell_type": "code",
   "execution_count": 6,
   "metadata": {
    "scrolled": true
   },
   "outputs": [],
   "source": [
    "df=PostalData('M4A')\n",
    "error=[]\n",
    "for pc in Postalcodedf['Postal Code']:\n",
    "    try:\n",
    "        df[pc]=pd.DataFrame(PostalData(pc))\n",
    "    except:\n",
    "        error.append(pc)"
   ]
  },
  {
   "cell_type": "code",
   "execution_count": 7,
   "metadata": {},
   "outputs": [
    {
     "data": {
      "text/html": [
       "<div>\n",
       "<style scoped>\n",
       "    .dataframe tbody tr th:only-of-type {\n",
       "        vertical-align: middle;\n",
       "    }\n",
       "\n",
       "    .dataframe tbody tr th {\n",
       "        vertical-align: top;\n",
       "    }\n",
       "\n",
       "    .dataframe thead th {\n",
       "        text-align: right;\n",
       "    }\n",
       "</style>\n",
       "<table border=\"1\" class=\"dataframe\">\n",
       "  <thead>\n",
       "    <tr style=\"text-align: right;\">\n",
       "      <th>TEXT_NAME_NOM</th>\n",
       "      <th>PostCode</th>\n",
       "      <th>Population</th>\n",
       "      <th>Average total income</th>\n",
       "      <th>Average age of the population</th>\n",
       "      <th>60 to 64 years</th>\n",
       "      <th>65 years and over</th>\n",
       "    </tr>\n",
       "  </thead>\n",
       "  <tbody>\n",
       "    <tr>\n",
       "      <th>1</th>\n",
       "      <td>M1B</td>\n",
       "      <td>66108</td>\n",
       "      <td>31782</td>\n",
       "      <td>38.9</td>\n",
       "      <td>4075</td>\n",
       "      <td>9440</td>\n",
       "    </tr>\n",
       "    <tr>\n",
       "      <th>2</th>\n",
       "      <td>M1C</td>\n",
       "      <td>35626</td>\n",
       "      <td>49838</td>\n",
       "      <td>42.1</td>\n",
       "      <td>2670</td>\n",
       "      <td>6400</td>\n",
       "    </tr>\n",
       "    <tr>\n",
       "      <th>3</th>\n",
       "      <td>M1E</td>\n",
       "      <td>46943</td>\n",
       "      <td>36962</td>\n",
       "      <td>41.5</td>\n",
       "      <td>3050</td>\n",
       "      <td>8315</td>\n",
       "    </tr>\n",
       "    <tr>\n",
       "      <th>4</th>\n",
       "      <td>M1G</td>\n",
       "      <td>29690</td>\n",
       "      <td>29263</td>\n",
       "      <td>38.6</td>\n",
       "      <td>1530</td>\n",
       "      <td>4485</td>\n",
       "    </tr>\n",
       "    <tr>\n",
       "      <th>5</th>\n",
       "      <td>M1H</td>\n",
       "      <td>24383</td>\n",
       "      <td>32921</td>\n",
       "      <td>39.9</td>\n",
       "      <td>1340</td>\n",
       "      <td>3760</td>\n",
       "    </tr>\n",
       "  </tbody>\n",
       "</table>\n",
       "</div>"
      ],
      "text/plain": [
       "TEXT_NAME_NOM PostCode Population Average total income  \\\n",
       "1                  M1B      66108                31782   \n",
       "2                  M1C      35626                49838   \n",
       "3                  M1E      46943                36962   \n",
       "4                  M1G      29690                29263   \n",
       "5                  M1H      24383                32921   \n",
       "\n",
       "TEXT_NAME_NOM Average age of the population 60 to 64 years 65 years and over  \n",
       "1                                      38.9           4075              9440  \n",
       "2                                      42.1           2670              6400  \n",
       "3                                      41.5           3050              8315  \n",
       "4                                      38.6           1530              4485  \n",
       "5                                      39.9           1340              3760  "
      ]
     },
     "execution_count": 7,
     "metadata": {},
     "output_type": "execute_result"
    }
   ],
   "source": [
    "info=df.transpose().reset_index().sort_values('index')\n",
    "info.rename(columns={'index':'PostCode','Population, 2016':'Population','    Average total income in 2015 among recipients ($)':'Average total income','    60 to 64 years':'60 to 64 years','  65 years and over':'65 years and over'},inplace=True)\n",
    "info.head()"
   ]
  },
  {
   "cell_type": "markdown",
   "metadata": {},
   "source": [
    "## Checking the problems"
   ]
  },
  {
   "cell_type": "code",
   "execution_count": 8,
   "metadata": {},
   "outputs": [
    {
     "data": {
      "text/plain": [
       "['M7R']"
      ]
     },
     "execution_count": 8,
     "metadata": {},
     "output_type": "execute_result"
    }
   ],
   "source": [
    "error"
   ]
  },
  {
   "cell_type": "code",
   "execution_count": 9,
   "metadata": {},
   "outputs": [
    {
     "data": {
      "text/html": [
       "<div>\n",
       "<style scoped>\n",
       "    .dataframe tbody tr th:only-of-type {\n",
       "        vertical-align: middle;\n",
       "    }\n",
       "\n",
       "    .dataframe tbody tr th {\n",
       "        vertical-align: top;\n",
       "    }\n",
       "\n",
       "    .dataframe thead th {\n",
       "        text-align: right;\n",
       "    }\n",
       "</style>\n",
       "<table border=\"1\" class=\"dataframe\">\n",
       "  <thead>\n",
       "    <tr style=\"text-align: right;\">\n",
       "      <th></th>\n",
       "      <th>PROV_TERR_ID</th>\n",
       "      <th>PROV_TERR_NAME_NOM</th>\n",
       "      <th>GEO_UID</th>\n",
       "      <th>GEO_ID</th>\n",
       "      <th>GEO_NAME_NOM</th>\n",
       "      <th>GEO_TYPE</th>\n",
       "      <th>TOPIC_THEME</th>\n",
       "      <th>TEXT_ID</th>\n",
       "      <th>HIER_ID</th>\n",
       "      <th>INDENT_ID</th>\n",
       "      <th>TEXT_NAME_NOM</th>\n",
       "      <th>NOTE_ID</th>\n",
       "      <th>NOTE</th>\n",
       "      <th>T_DATA_DONNEE</th>\n",
       "      <th>T_SYM</th>\n",
       "      <th>M_DATA_DONNEE</th>\n",
       "      <th>M_SYM</th>\n",
       "      <th>F_DATA_DONNEE</th>\n",
       "      <th>F_SYM</th>\n",
       "    </tr>\n",
       "  </thead>\n",
       "  <tbody>\n",
       "  </tbody>\n",
       "</table>\n",
       "</div>"
      ],
      "text/plain": [
       "Empty DataFrame\n",
       "Columns: [PROV_TERR_ID, PROV_TERR_NAME_NOM, GEO_UID, GEO_ID, GEO_NAME_NOM, GEO_TYPE, TOPIC_THEME, TEXT_ID, HIER_ID, INDENT_ID, TEXT_NAME_NOM, NOTE_ID, NOTE, T_DATA_DONNEE, T_SYM, M_DATA_DONNEE, M_SYM, F_DATA_DONNEE, F_SYM]\n",
       "Index: []"
      ]
     },
     "execution_count": 9,
     "metadata": {},
     "output_type": "execute_result"
    }
   ],
   "source": [
    "response=requests.get('https://www12.statcan.gc.ca/rest/census-recensement/CPR2016.json?lang=E&dguid=2016A0011'+'M7R'+'&topic=0&notes=0&stat=0')\n",
    "info2 = json.loads(response.text[2:])\n",
    "dff=pd.DataFrame(info2['DATA'],columns=info2['COLUMNS'])\n",
    "dff"
   ]
  },
  {
   "cell_type": "markdown",
   "metadata": {},
   "source": [
    "### The postal code M7R has no information so i will take it out"
   ]
  },
  {
   "cell_type": "code",
   "execution_count": 10,
   "metadata": {},
   "outputs": [
    {
     "data": {
      "text/html": [
       "<div>\n",
       "<style scoped>\n",
       "    .dataframe tbody tr th:only-of-type {\n",
       "        vertical-align: middle;\n",
       "    }\n",
       "\n",
       "    .dataframe tbody tr th {\n",
       "        vertical-align: top;\n",
       "    }\n",
       "\n",
       "    .dataframe thead th {\n",
       "        text-align: right;\n",
       "    }\n",
       "</style>\n",
       "<table border=\"1\" class=\"dataframe\">\n",
       "  <thead>\n",
       "    <tr style=\"text-align: right;\">\n",
       "      <th></th>\n",
       "      <th>Postal Code</th>\n",
       "      <th>Latitude</th>\n",
       "      <th>Longitude</th>\n",
       "    </tr>\n",
       "  </thead>\n",
       "  <tbody>\n",
       "    <tr>\n",
       "      <th>0</th>\n",
       "      <td>M1B</td>\n",
       "      <td>43.806686</td>\n",
       "      <td>-79.194353</td>\n",
       "    </tr>\n",
       "    <tr>\n",
       "      <th>1</th>\n",
       "      <td>M1C</td>\n",
       "      <td>43.784535</td>\n",
       "      <td>-79.160497</td>\n",
       "    </tr>\n",
       "    <tr>\n",
       "      <th>2</th>\n",
       "      <td>M1E</td>\n",
       "      <td>43.763573</td>\n",
       "      <td>-79.188711</td>\n",
       "    </tr>\n",
       "    <tr>\n",
       "      <th>3</th>\n",
       "      <td>M1G</td>\n",
       "      <td>43.770992</td>\n",
       "      <td>-79.216917</td>\n",
       "    </tr>\n",
       "    <tr>\n",
       "      <th>4</th>\n",
       "      <td>M1H</td>\n",
       "      <td>43.773136</td>\n",
       "      <td>-79.239476</td>\n",
       "    </tr>\n",
       "  </tbody>\n",
       "</table>\n",
       "</div>"
      ],
      "text/plain": [
       "  Postal Code   Latitude  Longitude\n",
       "0         M1B  43.806686 -79.194353\n",
       "1         M1C  43.784535 -79.160497\n",
       "2         M1E  43.763573 -79.188711\n",
       "3         M1G  43.770992 -79.216917\n",
       "4         M1H  43.773136 -79.239476"
      ]
     },
     "execution_count": 10,
     "metadata": {},
     "output_type": "execute_result"
    }
   ],
   "source": [
    "Postalcodedf = Postalcodedf[Postalcodedf['Postal Code']!='M7R'].sort_values('Postal Code')\n",
    "Postalcodedf.head()"
   ]
  },
  {
   "cell_type": "markdown",
   "metadata": {},
   "source": [
    "## Now to merge the data frames"
   ]
  },
  {
   "cell_type": "code",
   "execution_count": 11,
   "metadata": {},
   "outputs": [
    {
     "data": {
      "text/html": [
       "<div>\n",
       "<style scoped>\n",
       "    .dataframe tbody tr th:only-of-type {\n",
       "        vertical-align: middle;\n",
       "    }\n",
       "\n",
       "    .dataframe tbody tr th {\n",
       "        vertical-align: top;\n",
       "    }\n",
       "\n",
       "    .dataframe thead th {\n",
       "        text-align: right;\n",
       "    }\n",
       "</style>\n",
       "<table border=\"1\" class=\"dataframe\">\n",
       "  <thead>\n",
       "    <tr style=\"text-align: right;\">\n",
       "      <th>TEXT_NAME_NOM</th>\n",
       "      <th>PostCode</th>\n",
       "      <th>Population</th>\n",
       "      <th>Average total income</th>\n",
       "      <th>Average age of the population</th>\n",
       "      <th>60 to 64 years</th>\n",
       "      <th>65 years and over</th>\n",
       "      <th>Latitude</th>\n",
       "      <th>Longitude</th>\n",
       "    </tr>\n",
       "  </thead>\n",
       "  <tbody>\n",
       "    <tr>\n",
       "      <th>1</th>\n",
       "      <td>M1B</td>\n",
       "      <td>66108</td>\n",
       "      <td>31782</td>\n",
       "      <td>38.9</td>\n",
       "      <td>4075</td>\n",
       "      <td>9440</td>\n",
       "      <td>43.784535</td>\n",
       "      <td>-79.160497</td>\n",
       "    </tr>\n",
       "    <tr>\n",
       "      <th>2</th>\n",
       "      <td>M1C</td>\n",
       "      <td>35626</td>\n",
       "      <td>49838</td>\n",
       "      <td>42.1</td>\n",
       "      <td>2670</td>\n",
       "      <td>6400</td>\n",
       "      <td>43.763573</td>\n",
       "      <td>-79.188711</td>\n",
       "    </tr>\n",
       "    <tr>\n",
       "      <th>3</th>\n",
       "      <td>M1E</td>\n",
       "      <td>46943</td>\n",
       "      <td>36962</td>\n",
       "      <td>41.5</td>\n",
       "      <td>3050</td>\n",
       "      <td>8315</td>\n",
       "      <td>43.770992</td>\n",
       "      <td>-79.216917</td>\n",
       "    </tr>\n",
       "    <tr>\n",
       "      <th>4</th>\n",
       "      <td>M1G</td>\n",
       "      <td>29690</td>\n",
       "      <td>29263</td>\n",
       "      <td>38.6</td>\n",
       "      <td>1530</td>\n",
       "      <td>4485</td>\n",
       "      <td>43.773136</td>\n",
       "      <td>-79.239476</td>\n",
       "    </tr>\n",
       "    <tr>\n",
       "      <th>5</th>\n",
       "      <td>M1H</td>\n",
       "      <td>24383</td>\n",
       "      <td>32921</td>\n",
       "      <td>39.9</td>\n",
       "      <td>1340</td>\n",
       "      <td>3760</td>\n",
       "      <td>43.744734</td>\n",
       "      <td>-79.239476</td>\n",
       "    </tr>\n",
       "  </tbody>\n",
       "</table>\n",
       "</div>"
      ],
      "text/plain": [
       "TEXT_NAME_NOM PostCode Population Average total income  \\\n",
       "1                  M1B      66108                31782   \n",
       "2                  M1C      35626                49838   \n",
       "3                  M1E      46943                36962   \n",
       "4                  M1G      29690                29263   \n",
       "5                  M1H      24383                32921   \n",
       "\n",
       "TEXT_NAME_NOM Average age of the population 60 to 64 years 65 years and over  \\\n",
       "1                                      38.9           4075              9440   \n",
       "2                                      42.1           2670              6400   \n",
       "3                                      41.5           3050              8315   \n",
       "4                                      38.6           1530              4485   \n",
       "5                                      39.9           1340              3760   \n",
       "\n",
       "TEXT_NAME_NOM   Latitude  Longitude  \n",
       "1              43.784535 -79.160497  \n",
       "2              43.763573 -79.188711  \n",
       "3              43.770992 -79.216917  \n",
       "4              43.773136 -79.239476  \n",
       "5              43.744734 -79.239476  "
      ]
     },
     "execution_count": 11,
     "metadata": {},
     "output_type": "execute_result"
    }
   ],
   "source": [
    "info['Latitude']=Postalcodedf['Latitude']\n",
    "info['Longitude']=Postalcodedf['Longitude']\n",
    "info.head()"
   ]
  },
  {
   "cell_type": "markdown",
   "metadata": {},
   "source": [
    "## For this to work the data MUST have at least coordinates, average income and quantity of people that is 60 years old and over"
   ]
  },
  {
   "cell_type": "code",
   "execution_count": 12,
   "metadata": {},
   "outputs": [
    {
     "data": {
      "text/html": [
       "<div>\n",
       "<style scoped>\n",
       "    .dataframe tbody tr th:only-of-type {\n",
       "        vertical-align: middle;\n",
       "    }\n",
       "\n",
       "    .dataframe tbody tr th {\n",
       "        vertical-align: top;\n",
       "    }\n",
       "\n",
       "    .dataframe thead th {\n",
       "        text-align: right;\n",
       "    }\n",
       "</style>\n",
       "<table border=\"1\" class=\"dataframe\">\n",
       "  <thead>\n",
       "    <tr style=\"text-align: right;\">\n",
       "      <th>TEXT_NAME_NOM</th>\n",
       "      <th>PostCode</th>\n",
       "      <th>Population</th>\n",
       "      <th>Average total income</th>\n",
       "      <th>Average age of the population</th>\n",
       "      <th>60 to 64 years</th>\n",
       "      <th>65 years and over</th>\n",
       "      <th>Latitude</th>\n",
       "      <th>Longitude</th>\n",
       "    </tr>\n",
       "  </thead>\n",
       "  <tbody>\n",
       "    <tr>\n",
       "      <th>1</th>\n",
       "      <td>M1B</td>\n",
       "      <td>66108.0</td>\n",
       "      <td>31782.0</td>\n",
       "      <td>38.9</td>\n",
       "      <td>4075.0</td>\n",
       "      <td>9440.0</td>\n",
       "      <td>43.784535</td>\n",
       "      <td>-79.160497</td>\n",
       "    </tr>\n",
       "    <tr>\n",
       "      <th>2</th>\n",
       "      <td>M1C</td>\n",
       "      <td>35626.0</td>\n",
       "      <td>49838.0</td>\n",
       "      <td>42.1</td>\n",
       "      <td>2670.0</td>\n",
       "      <td>6400.0</td>\n",
       "      <td>43.763573</td>\n",
       "      <td>-79.188711</td>\n",
       "    </tr>\n",
       "    <tr>\n",
       "      <th>3</th>\n",
       "      <td>M1E</td>\n",
       "      <td>46943.0</td>\n",
       "      <td>36962.0</td>\n",
       "      <td>41.5</td>\n",
       "      <td>3050.0</td>\n",
       "      <td>8315.0</td>\n",
       "      <td>43.770992</td>\n",
       "      <td>-79.216917</td>\n",
       "    </tr>\n",
       "    <tr>\n",
       "      <th>4</th>\n",
       "      <td>M1G</td>\n",
       "      <td>29690.0</td>\n",
       "      <td>29263.0</td>\n",
       "      <td>38.6</td>\n",
       "      <td>1530.0</td>\n",
       "      <td>4485.0</td>\n",
       "      <td>43.773136</td>\n",
       "      <td>-79.239476</td>\n",
       "    </tr>\n",
       "    <tr>\n",
       "      <th>5</th>\n",
       "      <td>M1H</td>\n",
       "      <td>24383.0</td>\n",
       "      <td>32921.0</td>\n",
       "      <td>39.9</td>\n",
       "      <td>1340.0</td>\n",
       "      <td>3760.0</td>\n",
       "      <td>43.744734</td>\n",
       "      <td>-79.239476</td>\n",
       "    </tr>\n",
       "  </tbody>\n",
       "</table>\n",
       "</div>"
      ],
      "text/plain": [
       "TEXT_NAME_NOM PostCode  Population  Average total income  \\\n",
       "1                  M1B     66108.0               31782.0   \n",
       "2                  M1C     35626.0               49838.0   \n",
       "3                  M1E     46943.0               36962.0   \n",
       "4                  M1G     29690.0               29263.0   \n",
       "5                  M1H     24383.0               32921.0   \n",
       "\n",
       "TEXT_NAME_NOM  Average age of the population  60 to 64 years  \\\n",
       "1                                       38.9          4075.0   \n",
       "2                                       42.1          2670.0   \n",
       "3                                       41.5          3050.0   \n",
       "4                                       38.6          1530.0   \n",
       "5                                       39.9          1340.0   \n",
       "\n",
       "TEXT_NAME_NOM  65 years and over   Latitude  Longitude  \n",
       "1                         9440.0  43.784535 -79.160497  \n",
       "2                         6400.0  43.763573 -79.188711  \n",
       "3                         8315.0  43.770992 -79.216917  \n",
       "4                         4485.0  43.773136 -79.239476  \n",
       "5                         3760.0  43.744734 -79.239476  "
      ]
     },
     "execution_count": 12,
     "metadata": {},
     "output_type": "execute_result"
    }
   ],
   "source": [
    "info=info.replace('NaN',np.nan)\n",
    "info=info.dropna(subset=['Latitude', 'Longitude','60 to 64 years','65 years and over'])\n",
    "info.head()"
   ]
  },
  {
   "cell_type": "code",
   "execution_count": 14,
   "metadata": {
    "scrolled": true
   },
   "outputs": [
    {
     "name": "stdout",
     "output_type": "stream",
     "text": [
      "The average income per capita is: 51855.0947569886The percentage of people over 59 is: 0.21264824709545133\n"
     ]
    }
   ],
   "source": [
    "info['60 years and over']=info[['60 to 64 years','65 years and over']].sum(axis=1)\n",
    "info=info.reset_index()\n",
    "percent=info['60 years and over'].sum()/info['Population'].sum()\n",
    "aipc=((info['Average total income']*info['Population']).sum())/info['Population'].sum()\n",
    "info.drop(columns=['60 to 64 years','65 years and over','index','Average age of the population','Population'],inplace=True)\n",
    "print('The average income per capita is: '+str(aipc)+'The percentage of people over 59 is: '+str(percent))"
   ]
  },
  {
   "cell_type": "code",
   "execution_count": 15,
   "metadata": {},
   "outputs": [
    {
     "data": {
      "text/html": [
       "<div>\n",
       "<style scoped>\n",
       "    .dataframe tbody tr th:only-of-type {\n",
       "        vertical-align: middle;\n",
       "    }\n",
       "\n",
       "    .dataframe tbody tr th {\n",
       "        vertical-align: top;\n",
       "    }\n",
       "\n",
       "    .dataframe thead th {\n",
       "        text-align: right;\n",
       "    }\n",
       "</style>\n",
       "<table border=\"1\" class=\"dataframe\">\n",
       "  <thead>\n",
       "    <tr style=\"text-align: right;\">\n",
       "      <th>TEXT_NAME_NOM</th>\n",
       "      <th>Average total income</th>\n",
       "      <th>Latitude</th>\n",
       "      <th>Longitude</th>\n",
       "      <th>60 years and over</th>\n",
       "    </tr>\n",
       "  </thead>\n",
       "  <tbody>\n",
       "    <tr>\n",
       "      <th>count</th>\n",
       "      <td>96.000000</td>\n",
       "      <td>96.000000</td>\n",
       "      <td>96.000000</td>\n",
       "      <td>96.000000</td>\n",
       "    </tr>\n",
       "    <tr>\n",
       "      <th>mean</th>\n",
       "      <td>60310.250000</td>\n",
       "      <td>43.708108</td>\n",
       "      <td>-79.393634</td>\n",
       "      <td>6051.822917</td>\n",
       "    </tr>\n",
       "    <tr>\n",
       "      <th>std</th>\n",
       "      <td>38581.466311</td>\n",
       "      <td>0.052332</td>\n",
       "      <td>0.095890</td>\n",
       "      <td>3096.067125</td>\n",
       "    </tr>\n",
       "    <tr>\n",
       "      <th>min</th>\n",
       "      <td>26311.000000</td>\n",
       "      <td>43.602414</td>\n",
       "      <td>-79.588437</td>\n",
       "      <td>145.000000</td>\n",
       "    </tr>\n",
       "    <tr>\n",
       "      <th>25%</th>\n",
       "      <td>34424.000000</td>\n",
       "      <td>43.665081</td>\n",
       "      <td>-79.464763</td>\n",
       "      <td>3857.500000</td>\n",
       "    </tr>\n",
       "    <tr>\n",
       "      <th>50%</th>\n",
       "      <td>46980.000000</td>\n",
       "      <td>43.705883</td>\n",
       "      <td>-79.389494</td>\n",
       "      <td>5490.000000</td>\n",
       "    </tr>\n",
       "    <tr>\n",
       "      <th>75%</th>\n",
       "      <td>64326.000000</td>\n",
       "      <td>43.750743</td>\n",
       "      <td>-79.335994</td>\n",
       "      <td>7976.250000</td>\n",
       "    </tr>\n",
       "    <tr>\n",
       "      <th>max</th>\n",
       "      <td>210238.000000</td>\n",
       "      <td>43.836125</td>\n",
       "      <td>-79.160497</td>\n",
       "      <td>14540.000000</td>\n",
       "    </tr>\n",
       "  </tbody>\n",
       "</table>\n",
       "</div>"
      ],
      "text/plain": [
       "TEXT_NAME_NOM  Average total income   Latitude  Longitude  60 years and over\n",
       "count                     96.000000  96.000000  96.000000          96.000000\n",
       "mean                   60310.250000  43.708108 -79.393634        6051.822917\n",
       "std                    38581.466311   0.052332   0.095890        3096.067125\n",
       "min                    26311.000000  43.602414 -79.588437         145.000000\n",
       "25%                    34424.000000  43.665081 -79.464763        3857.500000\n",
       "50%                    46980.000000  43.705883 -79.389494        5490.000000\n",
       "75%                    64326.000000  43.750743 -79.335994        7976.250000\n",
       "max                   210238.000000  43.836125 -79.160497       14540.000000"
      ]
     },
     "execution_count": 15,
     "metadata": {},
     "output_type": "execute_result"
    }
   ],
   "source": [
    "info.describe()"
   ]
  },
  {
   "cell_type": "markdown",
   "metadata": {},
   "source": [
    "## Now the clustering and visualization"
   ]
  },
  {
   "cell_type": "code",
   "execution_count": 16,
   "metadata": {},
   "outputs": [],
   "source": [
    "import folium"
   ]
  },
  {
   "cell_type": "code",
   "execution_count": 17,
   "metadata": {},
   "outputs": [
    {
     "data": {
      "text/html": [
       "<div style=\"width:100%;\"><div style=\"position:relative;width:100%;height:0;padding-bottom:60%;\"><iframe src=\"about:blank\" style=\"position:absolute;width:100%;height:100%;left:0;top:0;border:none !important;\" data-html=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 onload=\"this.contentDocument.open();this.contentDocument.write(atob(this.getAttribute('data-html')));this.contentDocument.close();\" allowfullscreen webkitallowfullscreen mozallowfullscreen></iframe></div></div>"
      ],
      "text/plain": [
       "<folium.folium.Map at 0x280017002e8>"
      ]
     },
     "execution_count": 17,
     "metadata": {},
     "output_type": "execute_result"
    }
   ],
   "source": [
    "la = info['Latitude'].mean()\n",
    "lo = info['Longitude'].mean()\n",
    "m = folium.Map(location=[la,lo], zoom_start=11)\n",
    "mthings=folium.map.FeatureGroup()\n",
    "for n in range(len(info['Latitude'])):\n",
    "    La= info.loc[n,'Latitude']\n",
    "    Lo= info.loc[n,'Longitude']\n",
    "    pop = info.loc[n,'PostCode'] + ' Years>59: ' + str(int(info.loc[n,'60 years and over']))\n",
    "    mthings.add_child(folium.Marker([La,Lo],popup=pop))\n",
    "m.add_child(mthings)\n",
    "m"
   ]
  },
  {
   "cell_type": "markdown",
   "metadata": {},
   "source": [
    "## Now grouping hierarchicaly by income, quantity and proximity... the more old peolpe is, the more solid is the color in the circles"
   ]
  },
  {
   "cell_type": "code",
   "execution_count": 18,
   "metadata": {},
   "outputs": [
    {
     "name": "stderr",
     "output_type": "stream",
     "text": [
      "C:\\Users\\Nobody\\Anaconda3\\lib\\site-packages\\pandas\\core\\indexing.py:635: SettingWithCopyWarning: \n",
      "A value is trying to be set on a copy of a slice from a DataFrame.\n",
      "Try using .loc[row_indexer,col_indexer] = value instead\n",
      "\n",
      "See the caveats in the documentation: http://pandas.pydata.org/pandas-docs/stable/indexing.html#indexing-view-versus-copy\n",
      "  self.obj[item_labels[indexer[info_axis]]] = value\n"
     ]
    }
   ],
   "source": [
    "Cdata = info[['Average total income','60 years and over','Latitude','Longitude']]\n",
    "for col in Cdata.columns:\n",
    "    Cdata.loc[:,col]=(Cdata[col]-Cdata[col].mean())/Cdata[col].std()"
   ]
  },
  {
   "cell_type": "code",
   "execution_count": 19,
   "metadata": {},
   "outputs": [
    {
     "data": {
      "text/plain": [
       "AgglomerativeClustering(affinity='euclidean', compute_full_tree='auto',\n",
       "            connectivity=None, linkage='average', memory=None,\n",
       "            n_clusters=17, pooling_func='deprecated')"
      ]
     },
     "execution_count": 19,
     "metadata": {},
     "output_type": "execute_result"
    }
   ],
   "source": [
    "from sklearn.cluster import AgglomerativeClustering\n",
    "\n",
    "agglom = AgglomerativeClustering(n_clusters=17,linkage='average')\n",
    "agglom.fit(Cdata)"
   ]
  },
  {
   "cell_type": "code",
   "execution_count": 20,
   "metadata": {},
   "outputs": [
    {
     "data": {
      "text/html": [
       "<div>\n",
       "<style scoped>\n",
       "    .dataframe tbody tr th:only-of-type {\n",
       "        vertical-align: middle;\n",
       "    }\n",
       "\n",
       "    .dataframe tbody tr th {\n",
       "        vertical-align: top;\n",
       "    }\n",
       "\n",
       "    .dataframe thead th {\n",
       "        text-align: right;\n",
       "    }\n",
       "</style>\n",
       "<table border=\"1\" class=\"dataframe\">\n",
       "  <thead>\n",
       "    <tr style=\"text-align: right;\">\n",
       "      <th>TEXT_NAME_NOM</th>\n",
       "      <th>PostCode</th>\n",
       "      <th>Average total income</th>\n",
       "      <th>Latitude</th>\n",
       "      <th>Longitude</th>\n",
       "      <th>60 years and over</th>\n",
       "      <th>Cluster</th>\n",
       "    </tr>\n",
       "  </thead>\n",
       "  <tbody>\n",
       "    <tr>\n",
       "      <th>0</th>\n",
       "      <td>M1B</td>\n",
       "      <td>31782.0</td>\n",
       "      <td>43.784535</td>\n",
       "      <td>-79.160497</td>\n",
       "      <td>13515.0</td>\n",
       "      <td>8</td>\n",
       "    </tr>\n",
       "    <tr>\n",
       "      <th>1</th>\n",
       "      <td>M1C</td>\n",
       "      <td>49838.0</td>\n",
       "      <td>43.763573</td>\n",
       "      <td>-79.188711</td>\n",
       "      <td>9070.0</td>\n",
       "      <td>7</td>\n",
       "    </tr>\n",
       "    <tr>\n",
       "      <th>2</th>\n",
       "      <td>M1E</td>\n",
       "      <td>36962.0</td>\n",
       "      <td>43.770992</td>\n",
       "      <td>-79.216917</td>\n",
       "      <td>11365.0</td>\n",
       "      <td>7</td>\n",
       "    </tr>\n",
       "    <tr>\n",
       "      <th>3</th>\n",
       "      <td>M1G</td>\n",
       "      <td>29263.0</td>\n",
       "      <td>43.773136</td>\n",
       "      <td>-79.239476</td>\n",
       "      <td>6015.0</td>\n",
       "      <td>5</td>\n",
       "    </tr>\n",
       "    <tr>\n",
       "      <th>4</th>\n",
       "      <td>M1H</td>\n",
       "      <td>32921.0</td>\n",
       "      <td>43.744734</td>\n",
       "      <td>-79.239476</td>\n",
       "      <td>5100.0</td>\n",
       "      <td>5</td>\n",
       "    </tr>\n",
       "  </tbody>\n",
       "</table>\n",
       "</div>"
      ],
      "text/plain": [
       "TEXT_NAME_NOM PostCode  Average total income   Latitude  Longitude  \\\n",
       "0                  M1B               31782.0  43.784535 -79.160497   \n",
       "1                  M1C               49838.0  43.763573 -79.188711   \n",
       "2                  M1E               36962.0  43.770992 -79.216917   \n",
       "3                  M1G               29263.0  43.773136 -79.239476   \n",
       "4                  M1H               32921.0  43.744734 -79.239476   \n",
       "\n",
       "TEXT_NAME_NOM  60 years and over  Cluster  \n",
       "0                        13515.0        8  \n",
       "1                         9070.0        7  \n",
       "2                        11365.0        7  \n",
       "3                         6015.0        5  \n",
       "4                         5100.0        5  "
      ]
     },
     "execution_count": 20,
     "metadata": {},
     "output_type": "execute_result"
    }
   ],
   "source": [
    "info['Cluster'] = agglom.labels_\n",
    "info.head()"
   ]
  },
  {
   "cell_type": "code",
   "execution_count": 21,
   "metadata": {},
   "outputs": [
    {
     "data": {
      "text/html": [
       "<div>\n",
       "<style scoped>\n",
       "    .dataframe tbody tr th:only-of-type {\n",
       "        vertical-align: middle;\n",
       "    }\n",
       "\n",
       "    .dataframe tbody tr th {\n",
       "        vertical-align: top;\n",
       "    }\n",
       "\n",
       "    .dataframe thead th {\n",
       "        text-align: right;\n",
       "    }\n",
       "</style>\n",
       "<table border=\"1\" class=\"dataframe\">\n",
       "  <thead>\n",
       "    <tr style=\"text-align: right;\">\n",
       "      <th>TEXT_NAME_NOM</th>\n",
       "      <th>Average total income</th>\n",
       "      <th>Latitude</th>\n",
       "      <th>Longitude</th>\n",
       "      <th>60 years and over</th>\n",
       "    </tr>\n",
       "    <tr>\n",
       "      <th>Cluster</th>\n",
       "      <th></th>\n",
       "      <th></th>\n",
       "      <th></th>\n",
       "      <th></th>\n",
       "    </tr>\n",
       "  </thead>\n",
       "  <tbody>\n",
       "    <tr>\n",
       "      <th>0</th>\n",
       "      <td>55766.055556</td>\n",
       "      <td>43.647956</td>\n",
       "      <td>-79.420629</td>\n",
       "      <td>58335.0</td>\n",
       "    </tr>\n",
       "    <tr>\n",
       "      <th>1</th>\n",
       "      <td>132100.000000</td>\n",
       "      <td>43.701883</td>\n",
       "      <td>-79.400751</td>\n",
       "      <td>35780.0</td>\n",
       "    </tr>\n",
       "    <tr>\n",
       "      <th>2</th>\n",
       "      <td>48616.916667</td>\n",
       "      <td>43.669826</td>\n",
       "      <td>-79.493813</td>\n",
       "      <td>99540.0</td>\n",
       "    </tr>\n",
       "    <tr>\n",
       "      <th>3</th>\n",
       "      <td>37072.000000</td>\n",
       "      <td>43.729641</td>\n",
       "      <td>-79.500471</td>\n",
       "      <td>46805.0</td>\n",
       "    </tr>\n",
       "    <tr>\n",
       "      <th>4</th>\n",
       "      <td>37506.333333</td>\n",
       "      <td>43.779744</td>\n",
       "      <td>-79.368138</td>\n",
       "      <td>40910.0</td>\n",
       "    </tr>\n",
       "    <tr>\n",
       "      <th>5</th>\n",
       "      <td>35027.777778</td>\n",
       "      <td>43.738153</td>\n",
       "      <td>-79.264532</td>\n",
       "      <td>59780.0</td>\n",
       "    </tr>\n",
       "    <tr>\n",
       "      <th>6</th>\n",
       "      <td>58571.076923</td>\n",
       "      <td>43.690087</td>\n",
       "      <td>-79.346684</td>\n",
       "      <td>73765.0</td>\n",
       "    </tr>\n",
       "    <tr>\n",
       "      <th>7</th>\n",
       "      <td>36635.500000</td>\n",
       "      <td>43.772464</td>\n",
       "      <td>-79.270002</td>\n",
       "      <td>60830.0</td>\n",
       "    </tr>\n",
       "    <tr>\n",
       "      <th>8</th>\n",
       "      <td>32552.000000</td>\n",
       "      <td>43.810330</td>\n",
       "      <td>-79.183067</td>\n",
       "      <td>27685.0</td>\n",
       "    </tr>\n",
       "    <tr>\n",
       "      <th>9</th>\n",
       "      <td>113158.000000</td>\n",
       "      <td>43.650571</td>\n",
       "      <td>-79.384568</td>\n",
       "      <td>145.0</td>\n",
       "    </tr>\n",
       "    <tr>\n",
       "      <th>10</th>\n",
       "      <td>129519.000000</td>\n",
       "      <td>43.785895</td>\n",
       "      <td>-79.425376</td>\n",
       "      <td>5030.0</td>\n",
       "    </tr>\n",
       "    <tr>\n",
       "      <th>11</th>\n",
       "      <td>209748.000000</td>\n",
       "      <td>43.703792</td>\n",
       "      <td>-79.383160</td>\n",
       "      <td>8220.0</td>\n",
       "    </tr>\n",
       "    <tr>\n",
       "      <th>12</th>\n",
       "      <td>33962.000000</td>\n",
       "      <td>43.803762</td>\n",
       "      <td>-79.363452</td>\n",
       "      <td>2505.0</td>\n",
       "    </tr>\n",
       "    <tr>\n",
       "      <th>13</th>\n",
       "      <td>38431.000000</td>\n",
       "      <td>43.806686</td>\n",
       "      <td>-79.194353</td>\n",
       "      <td>3935.0</td>\n",
       "    </tr>\n",
       "    <tr>\n",
       "      <th>14</th>\n",
       "      <td>45175.000000</td>\n",
       "      <td>43.762390</td>\n",
       "      <td>-79.401912</td>\n",
       "      <td>45965.0</td>\n",
       "    </tr>\n",
       "    <tr>\n",
       "      <th>15</th>\n",
       "      <td>132686.000000</td>\n",
       "      <td>43.602414</td>\n",
       "      <td>-79.543484</td>\n",
       "      <td>3380.0</td>\n",
       "    </tr>\n",
       "    <tr>\n",
       "      <th>16</th>\n",
       "      <td>33141.000000</td>\n",
       "      <td>43.739416</td>\n",
       "      <td>-79.588437</td>\n",
       "      <td>8365.0</td>\n",
       "    </tr>\n",
       "  </tbody>\n",
       "</table>\n",
       "</div>"
      ],
      "text/plain": [
       "TEXT_NAME_NOM  Average total income   Latitude  Longitude  60 years and over\n",
       "Cluster                                                                     \n",
       "0                      55766.055556  43.647956 -79.420629            58335.0\n",
       "1                     132100.000000  43.701883 -79.400751            35780.0\n",
       "2                      48616.916667  43.669826 -79.493813            99540.0\n",
       "3                      37072.000000  43.729641 -79.500471            46805.0\n",
       "4                      37506.333333  43.779744 -79.368138            40910.0\n",
       "5                      35027.777778  43.738153 -79.264532            59780.0\n",
       "6                      58571.076923  43.690087 -79.346684            73765.0\n",
       "7                      36635.500000  43.772464 -79.270002            60830.0\n",
       "8                      32552.000000  43.810330 -79.183067            27685.0\n",
       "9                     113158.000000  43.650571 -79.384568              145.0\n",
       "10                    129519.000000  43.785895 -79.425376             5030.0\n",
       "11                    209748.000000  43.703792 -79.383160             8220.0\n",
       "12                     33962.000000  43.803762 -79.363452             2505.0\n",
       "13                     38431.000000  43.806686 -79.194353             3935.0\n",
       "14                     45175.000000  43.762390 -79.401912            45965.0\n",
       "15                    132686.000000  43.602414 -79.543484             3380.0\n",
       "16                     33141.000000  43.739416 -79.588437             8365.0"
      ]
     },
     "execution_count": 21,
     "metadata": {},
     "output_type": "execute_result"
    }
   ],
   "source": [
    "Clusters = info.groupby('Cluster').mean()\n",
    "Clusters['60 years and over'] = info.groupby('Cluster').sum()['60 years and over']\n",
    "Clusters"
   ]
  },
  {
   "cell_type": "markdown",
   "metadata": {},
   "source": [
    "# Please click inside the circles"
   ]
  },
  {
   "cell_type": "code",
   "execution_count": 22,
   "metadata": {
    "scrolled": false
   },
   "outputs": [
    {
     "data": {
      "text/html": [
       "<div style=\"width:100%;\"><div style=\"position:relative;width:100%;height:0;padding-bottom:60%;\"><iframe src=\"about:blank\" style=\"position:absolute;width:100%;height:100%;left:0;top:0;border:none !important;\" data-html=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 onload=\"this.contentDocument.open();this.contentDocument.write(atob(this.getAttribute('data-html')));this.contentDocument.close();\" allowfullscreen webkitallowfullscreen mozallowfullscreen></iframe></div></div>"
      ],
      "text/plain": [
       "<folium.folium.Map at 0x28003dc5588>"
      ]
     },
     "execution_count": 22,
     "metadata": {},
     "output_type": "execute_result"
    }
   ],
   "source": [
    "m = folium.Map(location=[la,lo], zoom_start=11)\n",
    "mthings=folium.map.FeatureGroup()\n",
    "colors=['orange','blue','yellow','red','green','pink','black','darkred','darkgreen','darkblue','orange','blue','yellow','red','green','black','darkred','darkgreen','darkblue','pink']\n",
    "for n in range(len(Clusters['Latitude'])):\n",
    "    La= Clusters.loc[n,'Latitude']\n",
    "    Lo= Clusters.loc[n,'Longitude']\n",
    "    pop = 'Cluster: '+str(n)+' Years>59: ' + str(int(Clusters.loc[n,'60 years and over']))+' Income: '+str(int(Clusters.loc[n,'Average total income']))\n",
    "    mthings.add_child(folium.CircleMarker([La,Lo],radius=20,popup=pop,color=colors[n],fill_color=colors[n],fill=True,fill_opacity=Clusters.loc[n,'60 years and over']/Clusters['60 years and over'].max()))\n",
    "m.add_child(mthings)\n",
    "m"
   ]
  },
  {
   "cell_type": "markdown",
   "metadata": {},
   "source": [
    "## The more clusters, the better and more difficult the study is... up to certain point. This is a visual way to find it."
   ]
  },
  {
   "cell_type": "code",
   "execution_count": 23,
   "metadata": {},
   "outputs": [],
   "source": [
    "def visualHcluster(cl):   \n",
    "    agglom = AgglomerativeClustering(n_clusters=cl,linkage='average')\n",
    "    agglom.fit(Cdata)\n",
    "    info['Cluster'] = agglom.labels_\n",
    "    Clusters = info.groupby('Cluster').mean()\n",
    "    Clusters['60 years and over'] = info.groupby('Cluster').sum()['60 years and over']\n",
    "    m = folium.Map(location=[la,lo], zoom_start=11)\n",
    "    mthings=folium.map.FeatureGroup()\n",
    "    colors=['orange','blue','yellow','red','green','pink','black','darkred','darkgreen','darkblue','orange','blue','yellow','red','green','black','darkred','darkgreen','darkblue','pink']\n",
    "    for n in range(len(Clusters['Latitude'])):\n",
    "        La= Clusters.loc[n,'Latitude']\n",
    "        Lo= Clusters.loc[n,'Longitude']\n",
    "        pop = 'Cluster: '+str(n)+' Years>59: ' + str(int(Clusters.loc[n,'60 years and over']))+' Income: '+str(int(Clusters.loc[n,'Average total income']))\n",
    "        mthings.add_child(folium.CircleMarker([La,Lo],radius=20,popup=pop,color=colors[n],fill_color=colors[n],fill=True,fill_opacity=Clusters.loc[n,'60 years and over']/Clusters['60 years and over'].max()))\n",
    "    m.add_child(mthings)\n",
    "    return m"
   ]
  },
  {
   "cell_type": "markdown",
   "metadata": {},
   "source": [
    "## Given that new clusters  after the 16th are not interesting, leaving 16 clusters is decided."
   ]
  },
  {
   "cell_type": "code",
   "execution_count": 24,
   "metadata": {
    "scrolled": false
   },
   "outputs": [
    {
     "data": {
      "text/html": [
       "<div style=\"width:100%;\"><div style=\"position:relative;width:100%;height:0;padding-bottom:60%;\"><iframe src=\"about:blank\" style=\"position:absolute;width:100%;height:100%;left:0;top:0;border:none !important;\" data-html=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 onload=\"this.contentDocument.open();this.contentDocument.write(atob(this.getAttribute('data-html')));this.contentDocument.close();\" allowfullscreen webkitallowfullscreen mozallowfullscreen></iframe></div></div>"
      ],
      "text/plain": [
       "<folium.folium.Map at 0x28003dc5358>"
      ]
     },
     "execution_count": 24,
     "metadata": {},
     "output_type": "execute_result"
    }
   ],
   "source": [
    "visualHcluster(16)"
   ]
  },
  {
   "cell_type": "markdown",
   "metadata": {},
   "source": [
    "## Here is the table of the data of the clusters with 16 clusters"
   ]
  },
  {
   "cell_type": "code",
   "execution_count": 25,
   "metadata": {
    "scrolled": false
   },
   "outputs": [
    {
     "data": {
      "text/html": [
       "<div>\n",
       "<style scoped>\n",
       "    .dataframe tbody tr th:only-of-type {\n",
       "        vertical-align: middle;\n",
       "    }\n",
       "\n",
       "    .dataframe tbody tr th {\n",
       "        vertical-align: top;\n",
       "    }\n",
       "\n",
       "    .dataframe thead th {\n",
       "        text-align: right;\n",
       "    }\n",
       "</style>\n",
       "<table border=\"1\" class=\"dataframe\">\n",
       "  <thead>\n",
       "    <tr style=\"text-align: right;\">\n",
       "      <th>TEXT_NAME_NOM</th>\n",
       "      <th>Average total income</th>\n",
       "      <th>Latitude</th>\n",
       "      <th>Longitude</th>\n",
       "      <th>60 years and over</th>\n",
       "    </tr>\n",
       "    <tr>\n",
       "      <th>Cluster</th>\n",
       "      <th></th>\n",
       "      <th></th>\n",
       "      <th></th>\n",
       "      <th></th>\n",
       "    </tr>\n",
       "  </thead>\n",
       "  <tbody>\n",
       "    <tr>\n",
       "      <th>0</th>\n",
       "      <td>36714.636364</td>\n",
       "      <td>43.730530</td>\n",
       "      <td>-79.508468</td>\n",
       "      <td>55170.0</td>\n",
       "    </tr>\n",
       "    <tr>\n",
       "      <th>1</th>\n",
       "      <td>55766.055556</td>\n",
       "      <td>43.647956</td>\n",
       "      <td>-79.420629</td>\n",
       "      <td>58335.0</td>\n",
       "    </tr>\n",
       "    <tr>\n",
       "      <th>2</th>\n",
       "      <td>48616.916667</td>\n",
       "      <td>43.669826</td>\n",
       "      <td>-79.493813</td>\n",
       "      <td>99540.0</td>\n",
       "    </tr>\n",
       "    <tr>\n",
       "      <th>3</th>\n",
       "      <td>132100.000000</td>\n",
       "      <td>43.701883</td>\n",
       "      <td>-79.400751</td>\n",
       "      <td>35780.0</td>\n",
       "    </tr>\n",
       "    <tr>\n",
       "      <th>4</th>\n",
       "      <td>37506.333333</td>\n",
       "      <td>43.779744</td>\n",
       "      <td>-79.368138</td>\n",
       "      <td>40910.0</td>\n",
       "    </tr>\n",
       "    <tr>\n",
       "      <th>5</th>\n",
       "      <td>35027.777778</td>\n",
       "      <td>43.738153</td>\n",
       "      <td>-79.264532</td>\n",
       "      <td>59780.0</td>\n",
       "    </tr>\n",
       "    <tr>\n",
       "      <th>6</th>\n",
       "      <td>58571.076923</td>\n",
       "      <td>43.690087</td>\n",
       "      <td>-79.346684</td>\n",
       "      <td>73765.0</td>\n",
       "    </tr>\n",
       "    <tr>\n",
       "      <th>7</th>\n",
       "      <td>36635.500000</td>\n",
       "      <td>43.772464</td>\n",
       "      <td>-79.270002</td>\n",
       "      <td>60830.0</td>\n",
       "    </tr>\n",
       "    <tr>\n",
       "      <th>8</th>\n",
       "      <td>32552.000000</td>\n",
       "      <td>43.810330</td>\n",
       "      <td>-79.183067</td>\n",
       "      <td>27685.0</td>\n",
       "    </tr>\n",
       "    <tr>\n",
       "      <th>9</th>\n",
       "      <td>113158.000000</td>\n",
       "      <td>43.650571</td>\n",
       "      <td>-79.384568</td>\n",
       "      <td>145.0</td>\n",
       "    </tr>\n",
       "    <tr>\n",
       "      <th>10</th>\n",
       "      <td>129519.000000</td>\n",
       "      <td>43.785895</td>\n",
       "      <td>-79.425376</td>\n",
       "      <td>5030.0</td>\n",
       "    </tr>\n",
       "    <tr>\n",
       "      <th>11</th>\n",
       "      <td>209748.000000</td>\n",
       "      <td>43.703792</td>\n",
       "      <td>-79.383160</td>\n",
       "      <td>8220.0</td>\n",
       "    </tr>\n",
       "    <tr>\n",
       "      <th>12</th>\n",
       "      <td>33962.000000</td>\n",
       "      <td>43.803762</td>\n",
       "      <td>-79.363452</td>\n",
       "      <td>2505.0</td>\n",
       "    </tr>\n",
       "    <tr>\n",
       "      <th>13</th>\n",
       "      <td>38431.000000</td>\n",
       "      <td>43.806686</td>\n",
       "      <td>-79.194353</td>\n",
       "      <td>3935.0</td>\n",
       "    </tr>\n",
       "    <tr>\n",
       "      <th>14</th>\n",
       "      <td>45175.000000</td>\n",
       "      <td>43.762390</td>\n",
       "      <td>-79.401912</td>\n",
       "      <td>45965.0</td>\n",
       "    </tr>\n",
       "    <tr>\n",
       "      <th>15</th>\n",
       "      <td>132686.000000</td>\n",
       "      <td>43.602414</td>\n",
       "      <td>-79.543484</td>\n",
       "      <td>3380.0</td>\n",
       "    </tr>\n",
       "  </tbody>\n",
       "</table>\n",
       "</div>"
      ],
      "text/plain": [
       "TEXT_NAME_NOM  Average total income   Latitude  Longitude  60 years and over\n",
       "Cluster                                                                     \n",
       "0                      36714.636364  43.730530 -79.508468            55170.0\n",
       "1                      55766.055556  43.647956 -79.420629            58335.0\n",
       "2                      48616.916667  43.669826 -79.493813            99540.0\n",
       "3                     132100.000000  43.701883 -79.400751            35780.0\n",
       "4                      37506.333333  43.779744 -79.368138            40910.0\n",
       "5                      35027.777778  43.738153 -79.264532            59780.0\n",
       "6                      58571.076923  43.690087 -79.346684            73765.0\n",
       "7                      36635.500000  43.772464 -79.270002            60830.0\n",
       "8                      32552.000000  43.810330 -79.183067            27685.0\n",
       "9                     113158.000000  43.650571 -79.384568              145.0\n",
       "10                    129519.000000  43.785895 -79.425376             5030.0\n",
       "11                    209748.000000  43.703792 -79.383160             8220.0\n",
       "12                     33962.000000  43.803762 -79.363452             2505.0\n",
       "13                     38431.000000  43.806686 -79.194353             3935.0\n",
       "14                     45175.000000  43.762390 -79.401912            45965.0\n",
       "15                    132686.000000  43.602414 -79.543484             3380.0"
      ]
     },
     "execution_count": 25,
     "metadata": {},
     "output_type": "execute_result"
    }
   ],
   "source": [
    "agglom = AgglomerativeClustering(n_clusters=16,linkage='average')\n",
    "agglom.fit(Cdata)\n",
    "info['Cluster'] = agglom.labels_\n",
    "Clusters = info.groupby('Cluster').mean()\n",
    "Clusters['60 years and over'] = info.groupby('Cluster').sum()['60 years and over']\n",
    "Clusters"
   ]
  },
  {
   "cell_type": "code",
   "execution_count": 26,
   "metadata": {},
   "outputs": [
    {
     "data": {
      "text/html": [
       "<div>\n",
       "<style scoped>\n",
       "    .dataframe tbody tr th:only-of-type {\n",
       "        vertical-align: middle;\n",
       "    }\n",
       "\n",
       "    .dataframe tbody tr th {\n",
       "        vertical-align: top;\n",
       "    }\n",
       "\n",
       "    .dataframe thead th {\n",
       "        text-align: right;\n",
       "    }\n",
       "</style>\n",
       "<table border=\"1\" class=\"dataframe\">\n",
       "  <thead>\n",
       "    <tr style=\"text-align: right;\">\n",
       "      <th>TEXT_NAME_NOM</th>\n",
       "      <th>Average total income</th>\n",
       "      <th>Latitude</th>\n",
       "      <th>Longitude</th>\n",
       "      <th>60 years and over</th>\n",
       "    </tr>\n",
       "  </thead>\n",
       "  <tbody>\n",
       "    <tr>\n",
       "      <th>count</th>\n",
       "      <td>16.000000</td>\n",
       "      <td>16.000000</td>\n",
       "      <td>16.000000</td>\n",
       "      <td>16.00000</td>\n",
       "    </tr>\n",
       "    <tr>\n",
       "      <th>mean</th>\n",
       "      <td>73510.581039</td>\n",
       "      <td>43.728530</td>\n",
       "      <td>-79.372024</td>\n",
       "      <td>36310.93750</td>\n",
       "    </tr>\n",
       "    <tr>\n",
       "      <th>std</th>\n",
       "      <td>52995.483955</td>\n",
       "      <td>0.064430</td>\n",
       "      <td>0.103287</td>\n",
       "      <td>30477.89282</td>\n",
       "    </tr>\n",
       "    <tr>\n",
       "      <th>min</th>\n",
       "      <td>32552.000000</td>\n",
       "      <td>43.602414</td>\n",
       "      <td>-79.543484</td>\n",
       "      <td>145.00000</td>\n",
       "    </tr>\n",
       "    <tr>\n",
       "      <th>25%</th>\n",
       "      <td>36694.852273</td>\n",
       "      <td>43.685022</td>\n",
       "      <td>-79.421815</td>\n",
       "      <td>4756.25000</td>\n",
       "    </tr>\n",
       "    <tr>\n",
       "      <th>50%</th>\n",
       "      <td>46895.958333</td>\n",
       "      <td>43.734341</td>\n",
       "      <td>-79.383864</td>\n",
       "      <td>38345.00000</td>\n",
       "    </tr>\n",
       "    <tr>\n",
       "      <th>75%</th>\n",
       "      <td>117248.250000</td>\n",
       "      <td>43.781281</td>\n",
       "      <td>-79.327514</td>\n",
       "      <td>58696.25000</td>\n",
       "    </tr>\n",
       "    <tr>\n",
       "      <th>max</th>\n",
       "      <td>209748.000000</td>\n",
       "      <td>43.810330</td>\n",
       "      <td>-79.183067</td>\n",
       "      <td>99540.00000</td>\n",
       "    </tr>\n",
       "  </tbody>\n",
       "</table>\n",
       "</div>"
      ],
      "text/plain": [
       "TEXT_NAME_NOM  Average total income   Latitude  Longitude  60 years and over\n",
       "count                     16.000000  16.000000  16.000000           16.00000\n",
       "mean                   73510.581039  43.728530 -79.372024        36310.93750\n",
       "std                    52995.483955   0.064430   0.103287        30477.89282\n",
       "min                    32552.000000  43.602414 -79.543484          145.00000\n",
       "25%                    36694.852273  43.685022 -79.421815         4756.25000\n",
       "50%                    46895.958333  43.734341 -79.383864        38345.00000\n",
       "75%                   117248.250000  43.781281 -79.327514        58696.25000\n",
       "max                   209748.000000  43.810330 -79.183067        99540.00000"
      ]
     },
     "execution_count": 26,
     "metadata": {},
     "output_type": "execute_result"
    }
   ],
   "source": [
    "Clusters.describe()"
   ]
  },
  {
   "cell_type": "markdown",
   "metadata": {},
   "source": [
    "## The cluster 3 is very good looking, also 1, 6 and maybe 2 (those numbers will change later), time for the foursquare data base to search for competence around them, they are almost in downtown so there sure is"
   ]
  },
  {
   "cell_type": "code",
   "execution_count": 27,
   "metadata": {},
   "outputs": [],
   "source": [
    "def competence(cluster,Cluster):\n",
    "    latitude = Cluster.loc[cluster,'Latitude']\n",
    "    longitude = Cluster.loc[cluster,'Longitude']\n",
    "    CLIENT_ID = '0SBSABMSBAXG1OBMECFXAP5XYM0COJ1ORBTGV1SD3MK1KVHF' \n",
    "    CLIENT_SECRET = '2XS1QPAW3J4NEP2TYQPWERQ3GCIRAMCVZK53C202APWBSRJY' \n",
    "    VERSION = '20180604'\n",
    "    LIMIT = 30\n",
    "    search_query = 'Gym'\n",
    "    radius = 2000\n",
    "    url = 'https://api.foursquare.com/v2/venues/search?client_id={}&client_secret={}&ll={},{}&v={}&query={}&radius={}&limit={}'.format(CLIENT_ID, CLIENT_SECRET, latitude, longitude, VERSION, search_query, radius, LIMIT)\n",
    "    results = requests.get(url).json()\n",
    "    venues = results['response']['venues']\n",
    "    return json_normalize(venues)"
   ]
  },
  {
   "cell_type": "code",
   "execution_count": 28,
   "metadata": {},
   "outputs": [],
   "source": [
    "Competence1 = competence(1,Clusters)\n",
    "Competence2 = competence(2,Clusters)\n",
    "Competence3 = competence(3,Clusters)\n",
    "Competence6 = competence(6,Clusters)"
   ]
  },
  {
   "cell_type": "code",
   "execution_count": 29,
   "metadata": {},
   "outputs": [],
   "source": [
    "Competence = []\n",
    "Competence.append(Competence1)\n",
    "Competence.append(Competence2)\n",
    "Competence.append(Competence3)\n",
    "Competence.append(Competence6)"
   ]
  },
  {
   "cell_type": "code",
   "execution_count": 30,
   "metadata": {
    "scrolled": true
   },
   "outputs": [],
   "source": [
    "error=[]\n",
    "for x in range(len(Competence)):\n",
    "    try:\n",
    "        Competence[x]=Competence[x].loc[:,['name','location.lat','location.lng']]\n",
    "    except:\n",
    "        error.append(Competence[x])\n",
    "        print('A problem appeared')"
   ]
  },
  {
   "cell_type": "markdown",
   "metadata": {},
   "source": [
    "### The next steep is to visualize"
   ]
  },
  {
   "cell_type": "code",
   "execution_count": 31,
   "metadata": {},
   "outputs": [],
   "source": [
    "Clusters = Clusters.iloc[[1,2,3,6],:]\n",
    "Clusters = Clusters.reset_index()"
   ]
  },
  {
   "cell_type": "code",
   "execution_count": 32,
   "metadata": {
    "scrolled": false
   },
   "outputs": [
    {
     "data": {
      "text/html": [
       "<div style=\"width:100%;\"><div style=\"position:relative;width:100%;height:0;padding-bottom:60%;\"><iframe src=\"about:blank\" style=\"position:absolute;width:100%;height:100%;left:0;top:0;border:none !important;\" data-html=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 onload=\"this.contentDocument.open();this.contentDocument.write(atob(this.getAttribute('data-html')));this.contentDocument.close();\" allowfullscreen webkitallowfullscreen mozallowfullscreen></iframe></div></div>"
      ],
      "text/plain": [
       "<folium.folium.Map at 0x28003e83908>"
      ]
     },
     "execution_count": 32,
     "metadata": {},
     "output_type": "execute_result"
    }
   ],
   "source": [
    "la = Clusters['Latitude'].mean()\n",
    "lo = Clusters['Longitude'].mean()\n",
    "m = folium.Map(location=[la,lo], zoom_start=12)\n",
    "mthings=folium.map.FeatureGroup()\n",
    "colors=['orange','blue','yellow','red','green','pink','black','darkred','darkgreen','darkblue','orange','blue','yellow','red','green','black','darkred','darkgreen','darkblue','pink']\n",
    "for n in range(len(Clusters['Latitude'])):\n",
    "    La= Clusters.loc[n,'Latitude']\n",
    "    Lo= Clusters.loc[n,'Longitude']\n",
    "    pop = 'Cluster: '+str(n)+' Years>59: ' + str(int(Clusters.loc[n,'60 years and over']))+' Income: '+str(int(Clusters.loc[n,'Average total income']))+\" Gyms nearby:\"+str(len(Competence[n]))\n",
    "    mthings.add_child(folium.CircleMarker([La,Lo],radius=60,popup=pop,color=colors[n],fill_color=colors[n],fill=True,fill_opacity=Clusters.loc[n,'60 years and over']/Clusters['60 years and over'].sum()))\n",
    "for x in range(len(Competence)):\n",
    "    for n in range(len(Competence[x])):\n",
    "        La = Competence[x].loc[n,'location.lat']\n",
    "        Lo = Competence[x].loc[n,'location.lng']\n",
    "        pop = Competence[x].loc[n,'name']\n",
    "        mthings.add_child(folium.Marker([La,Lo],popup=pop))\n",
    "m.add_child(mthings)\n",
    "m"
   ]
  },
  {
   "cell_type": "code",
   "execution_count": 33,
   "metadata": {},
   "outputs": [
    {
     "data": {
      "text/html": [
       "<div>\n",
       "<style scoped>\n",
       "    .dataframe tbody tr th:only-of-type {\n",
       "        vertical-align: middle;\n",
       "    }\n",
       "\n",
       "    .dataframe tbody tr th {\n",
       "        vertical-align: top;\n",
       "    }\n",
       "\n",
       "    .dataframe thead th {\n",
       "        text-align: right;\n",
       "    }\n",
       "</style>\n",
       "<table border=\"1\" class=\"dataframe\">\n",
       "  <thead>\n",
       "    <tr style=\"text-align: right;\">\n",
       "      <th>TEXT_NAME_NOM</th>\n",
       "      <th>Cluster</th>\n",
       "      <th>Average total income</th>\n",
       "      <th>Latitude</th>\n",
       "      <th>Longitude</th>\n",
       "      <th>60 years and over</th>\n",
       "    </tr>\n",
       "  </thead>\n",
       "  <tbody>\n",
       "    <tr>\n",
       "      <th>0</th>\n",
       "      <td>1</td>\n",
       "      <td>55766.055556</td>\n",
       "      <td>43.647956</td>\n",
       "      <td>-79.420629</td>\n",
       "      <td>58335.0</td>\n",
       "    </tr>\n",
       "    <tr>\n",
       "      <th>1</th>\n",
       "      <td>2</td>\n",
       "      <td>48616.916667</td>\n",
       "      <td>43.669826</td>\n",
       "      <td>-79.493813</td>\n",
       "      <td>99540.0</td>\n",
       "    </tr>\n",
       "    <tr>\n",
       "      <th>2</th>\n",
       "      <td>3</td>\n",
       "      <td>132100.000000</td>\n",
       "      <td>43.701883</td>\n",
       "      <td>-79.400751</td>\n",
       "      <td>35780.0</td>\n",
       "    </tr>\n",
       "    <tr>\n",
       "      <th>3</th>\n",
       "      <td>6</td>\n",
       "      <td>58571.076923</td>\n",
       "      <td>43.690087</td>\n",
       "      <td>-79.346684</td>\n",
       "      <td>73765.0</td>\n",
       "    </tr>\n",
       "  </tbody>\n",
       "</table>\n",
       "</div>"
      ],
      "text/plain": [
       "TEXT_NAME_NOM  Cluster  Average total income   Latitude  Longitude  \\\n",
       "0                    1          55766.055556  43.647956 -79.420629   \n",
       "1                    2          48616.916667  43.669826 -79.493813   \n",
       "2                    3         132100.000000  43.701883 -79.400751   \n",
       "3                    6          58571.076923  43.690087 -79.346684   \n",
       "\n",
       "TEXT_NAME_NOM  60 years and over  \n",
       "0                        58335.0  \n",
       "1                        99540.0  \n",
       "2                        35780.0  \n",
       "3                        73765.0  "
      ]
     },
     "execution_count": 33,
     "metadata": {},
     "output_type": "execute_result"
    }
   ],
   "source": [
    "Clusters"
   ]
  },
  {
   "cell_type": "markdown",
   "metadata": {},
   "source": [
    "##Discussion\n"
    "\n",
    "I think it requires more study to know where the gym could be, but from here we can tell the cluster 3 (in red) looks good; The cluster 2 (in yellow) was the ideal but there is a lot of other gyms, so i would look for a place in between these two.\n",
    "\n",
    "The Cluster 0 (in orange) has less potential clients than the Cluster 3 and those clients are not as wealthy as the ones in Clusters 2 and 3, on the top of that there is a lot of competence.\n",
    "\n",
    "The cluster 1 has almost no competence and there is A LOT of old people, but their income is a little low in comparison, so that may be a market for other type of business, maybe something with Cycling or that kind of stuff."
   ]
  }
 ],
 "metadata": {
  "kernelspec": {
   "display_name": "Python 3",
   "language": "python",
   "name": "python3"
  },
  "language_info": {
   "codemirror_mode": {
    "name": "ipython",
    "version": 3
   },
   "file_extension": ".py",
   "mimetype": "text/x-python",
   "name": "python",
   "nbconvert_exporter": "python",
   "pygments_lexer": "ipython3",
   "version": "3.7.3"
  }
 },
 "nbformat": 4,
 "nbformat_minor": 2
}
